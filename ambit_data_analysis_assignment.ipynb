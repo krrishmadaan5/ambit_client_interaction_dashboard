{
 "cells": [
  {
   "cell_type": "code",
   "execution_count": null,
   "id": "7fa7615f",
   "metadata": {},
   "outputs": [],
   "source": [
    "import pandas as pd"
   ]
  },
  {
   "cell_type": "markdown",
   "id": "7573a3d7",
   "metadata": {},
   "source": [
    "reading the dataset"
   ]
  },
  {
   "cell_type": "code",
   "execution_count": 2,
   "id": "db13ab1a",
   "metadata": {},
   "outputs": [],
   "source": [
    "df = pd.read_csv('Ambit Data Analyst Assignment.csv')"
   ]
  },
  {
   "cell_type": "code",
   "execution_count": 3,
   "id": "52e81517",
   "metadata": {},
   "outputs": [
    {
     "name": "stderr",
     "output_type": "stream",
     "text": [
      "C:\\Users\\Dell\\AppData\\Local\\Temp\\ipykernel_13464\\4196790625.py:1: DtypeWarning: Columns (1,2,3,4) have mixed types. Specify dtype option on import or set low_memory=False.\n",
      "  df1 = pd.read_csv('Daily Revenue.csv')\n"
     ]
    }
   ],
   "source": [
    "df1 = pd.read_csv('Daily Revenue.csv')"
   ]
  },
  {
   "cell_type": "markdown",
   "id": "dad4e861",
   "metadata": {},
   "source": [
    "having its overview"
   ]
  },
  {
   "cell_type": "code",
   "execution_count": 12,
   "id": "b7e5ec4c",
   "metadata": {},
   "outputs": [
    {
     "data": {
      "text/html": [
       "<div>\n",
       "<style scoped>\n",
       "    .dataframe tbody tr th:only-of-type {\n",
       "        vertical-align: middle;\n",
       "    }\n",
       "\n",
       "    .dataframe tbody tr th {\n",
       "        vertical-align: top;\n",
       "    }\n",
       "\n",
       "    .dataframe thead th {\n",
       "        text-align: right;\n",
       "    }\n",
       "</style>\n",
       "<table border=\"1\" class=\"dataframe\">\n",
       "  <thead>\n",
       "    <tr style=\"text-align: right;\">\n",
       "      <th></th>\n",
       "      <th>Meeting Code</th>\n",
       "      <th>Client Code</th>\n",
       "      <th>Client Name</th>\n",
       "      <th>Client City</th>\n",
       "      <th>Client Country</th>\n",
       "      <th>Country Code</th>\n",
       "      <th>Phone No.</th>\n",
       "      <th>Meeting Type</th>\n",
       "      <th>Meeting Start Time</th>\n",
       "      <th>Meeting End Time</th>\n",
       "      <th>Date</th>\n",
       "      <th>Analyst</th>\n",
       "      <th>Sales Representative</th>\n",
       "    </tr>\n",
       "  </thead>\n",
       "  <tbody>\n",
       "    <tr>\n",
       "      <th>0</th>\n",
       "      <td>1</td>\n",
       "      <td>P1Q2R</td>\n",
       "      <td>Olivier Armstrong</td>\n",
       "      <td>Mumbai</td>\n",
       "      <td>India</td>\n",
       "      <td>49</td>\n",
       "      <td>4599463880</td>\n",
       "      <td>In - person Meeting</td>\n",
       "      <td>16:31</td>\n",
       "      <td>16:44</td>\n",
       "      <td>01-Feb-06</td>\n",
       "      <td>Izo Motobe</td>\n",
       "      <td>Lex Luthor</td>\n",
       "    </tr>\n",
       "    <tr>\n",
       "      <th>1</th>\n",
       "      <td>2</td>\n",
       "      <td>Q9R0S</td>\n",
       "      <td>Sekke Bronzazza</td>\n",
       "      <td>Hong Kong</td>\n",
       "      <td>Hong Kong</td>\n",
       "      <td>52</td>\n",
       "      <td>7848986685</td>\n",
       "      <td>Roadshow</td>\n",
       "      <td>15:53</td>\n",
       "      <td>17:11</td>\n",
       "      <td>01-Feb-06</td>\n",
       "      <td>Izo Motobe</td>\n",
       "      <td>Superman</td>\n",
       "    </tr>\n",
       "    <tr>\n",
       "      <th>2</th>\n",
       "      <td>3</td>\n",
       "      <td>E1F2G</td>\n",
       "      <td>Gon Freecss</td>\n",
       "      <td>Mumbai</td>\n",
       "      <td>India</td>\n",
       "      <td>86</td>\n",
       "      <td>3723514473</td>\n",
       "      <td>Telephone</td>\n",
       "      <td>14:20</td>\n",
       "      <td>15:31</td>\n",
       "      <td>01-Feb-06</td>\n",
       "      <td>Izo Motobe</td>\n",
       "      <td>Lex Luthor</td>\n",
       "    </tr>\n",
       "    <tr>\n",
       "      <th>3</th>\n",
       "      <td>4</td>\n",
       "      <td>Y7Z8A</td>\n",
       "      <td>Hinami Fueguchi</td>\n",
       "      <td>London</td>\n",
       "      <td>UK</td>\n",
       "      <td>82</td>\n",
       "      <td>1805296323</td>\n",
       "      <td>Roadshow</td>\n",
       "      <td>18:17</td>\n",
       "      <td>19:15</td>\n",
       "      <td>01-Feb-06</td>\n",
       "      <td>Miyamoto Musash</td>\n",
       "      <td>Aquaman</td>\n",
       "    </tr>\n",
       "    <tr>\n",
       "      <th>4</th>\n",
       "      <td>5</td>\n",
       "      <td>N7O8P</td>\n",
       "      <td>Ruka Urushibara</td>\n",
       "      <td>London</td>\n",
       "      <td>UK</td>\n",
       "      <td>39</td>\n",
       "      <td>1045673119</td>\n",
       "      <td>Roadshow</td>\n",
       "      <td>17:25</td>\n",
       "      <td>17:42</td>\n",
       "      <td>01-Feb-06</td>\n",
       "      <td>Katsumi Orochi</td>\n",
       "      <td>Batman</td>\n",
       "    </tr>\n",
       "  </tbody>\n",
       "</table>\n",
       "</div>"
      ],
      "text/plain": [
       "   Meeting Code Client Code        Client Name Client City Client Country  \\\n",
       "0             1       P1Q2R  Olivier Armstrong      Mumbai          India   \n",
       "1             2       Q9R0S    Sekke Bronzazza   Hong Kong      Hong Kong   \n",
       "2             3       E1F2G        Gon Freecss      Mumbai          India   \n",
       "3             4       Y7Z8A    Hinami Fueguchi      London             UK   \n",
       "4             5       N7O8P    Ruka Urushibara      London             UK   \n",
       "\n",
       "   Country Code   Phone No.         Meeting Type Meeting Start Time  \\\n",
       "0            49  4599463880  In - person Meeting              16:31   \n",
       "1            52  7848986685             Roadshow              15:53   \n",
       "2            86  3723514473            Telephone              14:20   \n",
       "3            82  1805296323             Roadshow              18:17   \n",
       "4            39  1045673119             Roadshow              17:25   \n",
       "\n",
       "  Meeting End Time       Date          Analyst Sales Representative  \n",
       "0            16:44  01-Feb-06       Izo Motobe           Lex Luthor  \n",
       "1            17:11  01-Feb-06       Izo Motobe             Superman  \n",
       "2            15:31  01-Feb-06       Izo Motobe           Lex Luthor  \n",
       "3            19:15  01-Feb-06  Miyamoto Musash              Aquaman  \n",
       "4            17:42  01-Feb-06   Katsumi Orochi               Batman  "
      ]
     },
     "execution_count": 12,
     "metadata": {},
     "output_type": "execute_result"
    }
   ],
   "source": [
    "df.head()"
   ]
  },
  {
   "cell_type": "code",
   "execution_count": 37,
   "id": "4b903638",
   "metadata": {},
   "outputs": [
    {
     "data": {
      "text/html": [
       "<div>\n",
       "<style scoped>\n",
       "    .dataframe tbody tr th:only-of-type {\n",
       "        vertical-align: middle;\n",
       "    }\n",
       "\n",
       "    .dataframe tbody tr th {\n",
       "        vertical-align: top;\n",
       "    }\n",
       "\n",
       "    .dataframe thead th {\n",
       "        text-align: right;\n",
       "    }\n",
       "</style>\n",
       "<table border=\"1\" class=\"dataframe\">\n",
       "  <thead>\n",
       "    <tr style=\"text-align: right;\">\n",
       "      <th></th>\n",
       "      <th>Transction Code</th>\n",
       "      <th>Clinet Code</th>\n",
       "      <th>Client Company Name</th>\n",
       "      <th>Revenue (Rs.)</th>\n",
       "      <th>Date</th>\n",
       "    </tr>\n",
       "  </thead>\n",
       "  <tbody>\n",
       "    <tr>\n",
       "      <th>0</th>\n",
       "      <td>1.0</td>\n",
       "      <td>P1Q2R</td>\n",
       "      <td>Fullmetal Alchemist: Brotherhood</td>\n",
       "      <td>104.96</td>\n",
       "      <td>01-Feb-06</td>\n",
       "    </tr>\n",
       "    <tr>\n",
       "      <th>1</th>\n",
       "      <td>2.0</td>\n",
       "      <td>T1U2V</td>\n",
       "      <td>Fairy Tail</td>\n",
       "      <td>1,202.25</td>\n",
       "      <td>01-Feb-06</td>\n",
       "    </tr>\n",
       "    <tr>\n",
       "      <th>2</th>\n",
       "      <td>3.0</td>\n",
       "      <td>I1J2K</td>\n",
       "      <td>US Capitals AMC</td>\n",
       "      <td>381.67</td>\n",
       "      <td>01-Feb-06</td>\n",
       "    </tr>\n",
       "    <tr>\n",
       "      <th>3</th>\n",
       "      <td>4.0</td>\n",
       "      <td>H3I4J</td>\n",
       "      <td>Jujutsu Kaisen</td>\n",
       "      <td>1,870.16</td>\n",
       "      <td>01-Feb-06</td>\n",
       "    </tr>\n",
       "    <tr>\n",
       "      <th>4</th>\n",
       "      <td>5.0</td>\n",
       "      <td>G5H6I</td>\n",
       "      <td>Bleach</td>\n",
       "      <td>267.17</td>\n",
       "      <td>01-Feb-06</td>\n",
       "    </tr>\n",
       "  </tbody>\n",
       "</table>\n",
       "</div>"
      ],
      "text/plain": [
       "   Transction Code Clinet Code               Client Company Name  \\\n",
       "0              1.0       P1Q2R  Fullmetal Alchemist: Brotherhood   \n",
       "1              2.0       T1U2V                        Fairy Tail   \n",
       "2              3.0       I1J2K                   US Capitals AMC   \n",
       "3              4.0       H3I4J                    Jujutsu Kaisen   \n",
       "4              5.0       G5H6I                            Bleach   \n",
       "\n",
       "  Revenue (Rs.)       Date  \n",
       "0       104.96   01-Feb-06  \n",
       "1     1,202.25   01-Feb-06  \n",
       "2       381.67   01-Feb-06  \n",
       "3     1,870.16   01-Feb-06  \n",
       "4       267.17   01-Feb-06  "
      ]
     },
     "execution_count": 37,
     "metadata": {},
     "output_type": "execute_result"
    }
   ],
   "source": [
    "df1.head()"
   ]
  },
  {
   "cell_type": "markdown",
   "id": "b7d93b0d",
   "metadata": {},
   "source": [
    "the number of rows and columns in the dataset"
   ]
  },
  {
   "cell_type": "code",
   "execution_count": 18,
   "id": "103545f9",
   "metadata": {},
   "outputs": [
    {
     "data": {
      "text/plain": [
       "(239050, 13)"
      ]
     },
     "execution_count": 18,
     "metadata": {},
     "output_type": "execute_result"
    }
   ],
   "source": [
    "df.shape"
   ]
  },
  {
   "cell_type": "code",
   "execution_count": 38,
   "id": "b1f62921",
   "metadata": {},
   "outputs": [
    {
     "data": {
      "text/plain": [
       "(239050, 5)"
      ]
     },
     "execution_count": 38,
     "metadata": {},
     "output_type": "execute_result"
    }
   ],
   "source": [
    "df1.shape"
   ]
  },
  {
   "cell_type": "markdown",
   "id": "6505330c",
   "metadata": {},
   "source": [
    "getting all the column names"
   ]
  },
  {
   "cell_type": "code",
   "execution_count": 13,
   "id": "b2b9cd8d",
   "metadata": {},
   "outputs": [
    {
     "data": {
      "text/plain": [
       "Index(['Meeting Code', 'Client Code', 'Client Name', 'Client City',\n",
       "       'Client Country', 'Country Code', 'Phone No.', 'Meeting Type',\n",
       "       'Meeting Start Time', 'Meeting End Time', 'Date', 'Analyst',\n",
       "       'Sales Representative'],\n",
       "      dtype='object')"
      ]
     },
     "execution_count": 13,
     "metadata": {},
     "output_type": "execute_result"
    }
   ],
   "source": [
    "df.columns"
   ]
  },
  {
   "cell_type": "code",
   "execution_count": 39,
   "id": "1c6a8676",
   "metadata": {},
   "outputs": [
    {
     "data": {
      "text/plain": [
       "Index(['Transction Code', 'Clinet Code', 'Client Company Name',\n",
       "       'Revenue (Rs.)', 'Date'],\n",
       "      dtype='object')"
      ]
     },
     "execution_count": 39,
     "metadata": {},
     "output_type": "execute_result"
    }
   ],
   "source": [
    "df1.columns"
   ]
  },
  {
   "cell_type": "markdown",
   "id": "cc527cea",
   "metadata": {},
   "source": [
    "having an overview of the data types and null values in each column"
   ]
  },
  {
   "cell_type": "code",
   "execution_count": 15,
   "id": "209a4d35",
   "metadata": {},
   "outputs": [
    {
     "name": "stdout",
     "output_type": "stream",
     "text": [
      "<class 'pandas.core.frame.DataFrame'>\n",
      "RangeIndex: 239050 entries, 0 to 239049\n",
      "Data columns (total 13 columns):\n",
      " #   Column                Non-Null Count   Dtype \n",
      "---  ------                --------------   ----- \n",
      " 0   Meeting Code          239050 non-null  int64 \n",
      " 1   Client Code           239050 non-null  object\n",
      " 2   Client Name           239050 non-null  object\n",
      " 3   Client City           239050 non-null  object\n",
      " 4   Client Country        239050 non-null  object\n",
      " 5   Country Code          239050 non-null  int64 \n",
      " 6   Phone No.             239050 non-null  int64 \n",
      " 7   Meeting Type          239050 non-null  object\n",
      " 8   Meeting Start Time    239050 non-null  object\n",
      " 9   Meeting End Time      239050 non-null  object\n",
      " 10  Date                  239050 non-null  object\n",
      " 11  Analyst               239050 non-null  object\n",
      " 12  Sales Representative  239050 non-null  object\n",
      "dtypes: int64(3), object(10)\n",
      "memory usage: 23.7+ MB\n"
     ]
    }
   ],
   "source": [
    "df.info()"
   ]
  },
  {
   "cell_type": "code",
   "execution_count": 42,
   "id": "e6e065d7",
   "metadata": {},
   "outputs": [
    {
     "name": "stdout",
     "output_type": "stream",
     "text": [
      "<class 'pandas.core.frame.DataFrame'>\n",
      "RangeIndex: 239050 entries, 0 to 239049\n",
      "Data columns (total 5 columns):\n",
      " #   Column               Non-Null Count  Dtype  \n",
      "---  ------               --------------  -----  \n",
      " 0   Transaction Code     76512 non-null  float64\n",
      " 1   Client Code          76512 non-null  object \n",
      " 2   Client Company Name  76512 non-null  object \n",
      " 3   Revenue (Rs.)        76512 non-null  object \n",
      " 4   Date                 76512 non-null  object \n",
      "dtypes: float64(1), object(4)\n",
      "memory usage: 9.1+ MB\n"
     ]
    }
   ],
   "source": [
    "df1.info()"
   ]
  },
  {
   "cell_type": "markdown",
   "id": "34fd94e6",
   "metadata": {},
   "source": [
    "changing data-types of some columns for a better and smoother analysis."
   ]
  },
  {
   "cell_type": "code",
   "execution_count": 4,
   "id": "d0047fc9",
   "metadata": {},
   "outputs": [
    {
     "name": "stderr",
     "output_type": "stream",
     "text": [
      "C:\\Users\\Dell\\AppData\\Local\\Temp\\ipykernel_13464\\2167482792.py:1: UserWarning: Could not infer format, so each element will be parsed individually, falling back to `dateutil`. To ensure parsing is consistent and as-expected, please specify a format.\n",
      "  df['Date'] = pd.to_datetime(df['Date'])\n",
      "C:\\Users\\Dell\\AppData\\Local\\Temp\\ipykernel_13464\\2167482792.py:2: UserWarning: Could not infer format, so each element will be parsed individually, falling back to `dateutil`. To ensure parsing is consistent and as-expected, please specify a format.\n",
      "  df['Meeting Start Time'] = pd.to_datetime(df['Meeting Start Time'])\n",
      "C:\\Users\\Dell\\AppData\\Local\\Temp\\ipykernel_13464\\2167482792.py:3: UserWarning: Could not infer format, so each element will be parsed individually, falling back to `dateutil`. To ensure parsing is consistent and as-expected, please specify a format.\n",
      "  df['Meeting End Time'] = pd.to_datetime(df['Meeting End Time'])\n"
     ]
    }
   ],
   "source": [
    "df['Date'] = pd.to_datetime(df['Date'])\n",
    "df['Meeting Start Time'] = pd.to_datetime(df['Meeting Start Time'])\n",
    "df['Meeting End Time'] = pd.to_datetime(df['Meeting End Time'])"
   ]
  },
  {
   "cell_type": "code",
   "execution_count": 5,
   "id": "7518f6f9",
   "metadata": {},
   "outputs": [],
   "source": [
    "df1.rename(columns={'Clinet Code': 'Client Code', 'Transction Code': 'Transaction Code'}, inplace=True)"
   ]
  },
  {
   "cell_type": "code",
   "execution_count": 6,
   "id": "90143b8a",
   "metadata": {},
   "outputs": [
    {
     "name": "stdout",
     "output_type": "stream",
     "text": [
      "<class 'pandas.core.frame.DataFrame'>\n",
      "RangeIndex: 239050 entries, 0 to 239049\n",
      "Data columns (total 13 columns):\n",
      " #   Column                Non-Null Count   Dtype         \n",
      "---  ------                --------------   -----         \n",
      " 0   Meeting Code          239050 non-null  int64         \n",
      " 1   Client Code           239050 non-null  object        \n",
      " 2   Client Name           239050 non-null  object        \n",
      " 3   Client City           239050 non-null  object        \n",
      " 4   Client Country        239050 non-null  object        \n",
      " 5   Country Code          239050 non-null  int64         \n",
      " 6   Phone No.             239050 non-null  int64         \n",
      " 7   Meeting Type          239050 non-null  object        \n",
      " 8   Meeting Start Time    239050 non-null  datetime64[ns]\n",
      " 9   Meeting End Time      239050 non-null  datetime64[ns]\n",
      " 10  Date                  239050 non-null  datetime64[ns]\n",
      " 11  Analyst               239050 non-null  object        \n",
      " 12  Sales Representative  239050 non-null  object        \n",
      "dtypes: datetime64[ns](3), int64(3), object(7)\n",
      "memory usage: 23.7+ MB\n"
     ]
    }
   ],
   "source": [
    "df.info()"
   ]
  },
  {
   "cell_type": "code",
   "execution_count": 6,
   "id": "3481279e",
   "metadata": {},
   "outputs": [
    {
     "name": "stderr",
     "output_type": "stream",
     "text": [
      "C:\\Users\\Dell\\AppData\\Local\\Temp\\ipykernel_13464\\1148610173.py:1: UserWarning: Could not infer format, so each element will be parsed individually, falling back to `dateutil`. To ensure parsing is consistent and as-expected, please specify a format.\n",
      "  df1['Date'] = pd.to_datetime(df1['Date'])\n"
     ]
    }
   ],
   "source": [
    "df1['Date'] = pd.to_datetime(df1['Date'])"
   ]
  },
  {
   "cell_type": "markdown",
   "id": "02ac8976",
   "metadata": {},
   "source": [
    "checking for null values in each column"
   ]
  },
  {
   "cell_type": "code",
   "execution_count": 20,
   "id": "043ae5e4",
   "metadata": {},
   "outputs": [
    {
     "data": {
      "text/plain": [
       "Meeting Code            0\n",
       "Client Code             0\n",
       "Client Name             0\n",
       "Client City             0\n",
       "Client Country          0\n",
       "Country Code            0\n",
       "Phone No.               0\n",
       "Meeting Type            0\n",
       "Meeting Start Time      0\n",
       "Meeting End Time        0\n",
       "Date                    0\n",
       "Analyst                 0\n",
       "Sales Representative    0\n",
       "dtype: int64"
      ]
     },
     "execution_count": 20,
     "metadata": {},
     "output_type": "execute_result"
    }
   ],
   "source": [
    "df.isnull().sum()"
   ]
  },
  {
   "cell_type": "code",
   "execution_count": 44,
   "id": "adc459d5",
   "metadata": {},
   "outputs": [
    {
     "data": {
      "text/plain": [
       "Transaction Code       162538\n",
       "Client Code            162538\n",
       "Client Company Name    162538\n",
       "Revenue (Rs.)          162538\n",
       "Date                   162538\n",
       "dtype: int64"
      ]
     },
     "execution_count": 44,
     "metadata": {},
     "output_type": "execute_result"
    }
   ],
   "source": [
    "df1.isnull().sum()"
   ]
  },
  {
   "cell_type": "markdown",
   "id": "c36c5d11",
   "metadata": {},
   "source": [
    "NOW OUR DATASET IS READY FOR FURTHER ANALYSIS, LETS BEGIN!"
   ]
  },
  {
   "cell_type": "markdown",
   "id": "78863cee",
   "metadata": {},
   "source": [
    "Q1: Highest leaves by an Analyst in the between Sep 2008 - Mar 2013"
   ]
  },
  {
   "cell_type": "code",
   "execution_count": null,
   "id": "a690052d",
   "metadata": {},
   "outputs": [
    {
     "name": "stdout",
     "output_type": "stream",
     "text": [
      "      Analyst  Leave Days\n",
      "0  Jack Hanma         548\n"
     ]
    }
   ],
   "source": [
    "start_date = '2008-09-01'\n",
    "end_date = '2013-03-31'\n",
    "mask = (df['Date'] >= start_date) & (df['Date'] <= end_date)\n",
    "filtered_df = df[mask]\n",
    "\n",
    "all_dates = pd.date_range(start=start_date, end=end_date)\n",
    "\n",
    "analysts = filtered_df['Analyst'].dropna().unique()\n",
    "\n",
    "leave_counts = {}\n",
    "\n",
    "for analyst in analysts:\n",
    "    analyst_dates = filtered_df[filtered_df['Analyst'] == analyst]['Date'].dt.date.unique()\n",
    "    \n",
    "    leaves = set(all_dates.date) - set(analyst_dates)\n",
    "    leave_counts[analyst] = len(leaves)\n",
    "\n",
    "leave_df = pd.DataFrame(list(leave_counts.items()), columns=['Analyst', 'Leave Days'])\n",
    "\n",
    "max_leave = leave_df.sort_values(by='Leave Days', ascending=False).head(1)\n",
    "\n",
    "print(max_leave)"
   ]
  },
  {
   "cell_type": "markdown",
   "id": "dae18958",
   "metadata": {},
   "source": [
    "Q2: Least Revenue Contribution from a Sales representative between Jan 2020 to Dec 2020"
   ]
  },
  {
   "cell_type": "code",
   "execution_count": 16,
   "id": "fab23ad6",
   "metadata": {},
   "outputs": [
    {
     "name": "stdout",
     "output_type": "stream",
     "text": [
      "  Sales Representative  Revenue (Rs.)\n",
      "1               Batman    18094309.05\n"
     ]
    }
   ],
   "source": [
    "start_date = '2020-01-01'\n",
    "end_date = '2020-12-31'\n",
    "\n",
    "df_2020 = df[(df['Date'] >= start_date) & (df['Date'] <= end_date)]\n",
    "df1_2020 = df1[(df1['Date'] >= start_date) & (df1['Date'] <= end_date)]\n",
    "\n",
    "merged_df = pd.merge(df_2020, df1_2020, on='Client Code', how='inner')\n",
    "\n",
    "merged_df['Revenue (Rs.)'] = pd.to_numeric(merged_df['Revenue (Rs.)'], errors='coerce')\n",
    "\n",
    "revenue_by_salesrep = merged_df.groupby('Sales Representative')['Revenue (Rs.)'].sum().reset_index()\n",
    "\n",
    "least_revenue_salesrep = revenue_by_salesrep.sort_values(by='Revenue (Rs.)', ascending=True).head(1)\n",
    "\n",
    "print(least_revenue_salesrep)"
   ]
  },
  {
   "cell_type": "markdown",
   "id": "c4b68b52",
   "metadata": {},
   "source": [
    "Q3: In which country Baki Hanma had the most \"In-person\" meeting between Apr 2017 to Mar 2019"
   ]
  },
  {
   "cell_type": "code",
   "execution_count": null,
   "id": "290d0ed9",
   "metadata": {},
   "outputs": [
    {
     "name": "stdout",
     "output_type": "stream",
     "text": [
      "  Client Country  Meeting Count\n",
      "4             US             59\n"
     ]
    }
   ],
   "source": [
    "start_date = '2017-04-01'\n",
    "end_date = '2019-03-31'\n",
    "\n",
    "filtered_df = df[\n",
    "    (df['Analyst'] == 'Baki Hanma') &\n",
    "    (df['Meeting Type']== 'In - person Meeting') &\n",
    "    (df['Date'] >= start_date) &\n",
    "    (df['Date'] <= end_date)\n",
    "]\n",
    "\n",
    "country_meeting_counts = filtered_df.groupby('Client Country').size().reset_index(name='Meeting Count')\n",
    "\n",
    "top_country = country_meeting_counts.sort_values(by='Meeting Count', ascending=False).head(1)\n",
    "\n",
    "print(top_country)"
   ]
  },
  {
   "cell_type": "markdown",
   "id": "6344ff49",
   "metadata": {},
   "source": [
    "Q4: Which client preferred the \"Zoom meetings\" the most?"
   ]
  },
  {
   "cell_type": "code",
   "execution_count": null,
   "id": "ec0a2993",
   "metadata": {},
   "outputs": [
    {
     "name": "stdout",
     "output_type": "stream",
     "text": [
      "    Client Name  Zoom Meeting Count\n",
      "175     Krillin                 142\n"
     ]
    }
   ],
   "source": [
    "df.columns = df.columns.str.strip()\n",
    "\n",
    "zoom_meetings = df[df['Meeting Type'] == 'Zoom Meeting']\n",
    "\n",
    "zoom_meeting_counts = zoom_meetings.groupby('Client Name').size().reset_index(name='Zoom Meeting Count')\n",
    "\n",
    "top_client = zoom_meeting_counts.sort_values(by='Zoom Meeting Count', ascending=False).head(1)\n",
    "\n",
    "print(top_client)"
   ]
  },
  {
   "cell_type": "markdown",
   "id": "65a1e734",
   "metadata": {},
   "source": [
    "Q5: Which city contribute the highest Revenue between Jun22 to Mar 25?"
   ]
  },
  {
   "cell_type": "code",
   "execution_count": null,
   "id": "2542e660",
   "metadata": {},
   "outputs": [],
   "source": [
    "s_date = '2022-06-01'\n",
    "e_date = '2025-03-31'\n",
    "\n",
    "df_country = df[(df['Date'] >= s_date) & (df['Date'] <= e_date)]\n",
    "df1_country = df1[(df1['Date'] >= s_date) & (df1['Date'] <= e_date)]\n",
    "\n",
    "combined_df = pd.merge(df_country, df1_country, on='Client Code', how='inner')"
   ]
  },
  {
   "cell_type": "code",
   "execution_count": 12,
   "id": "72fe0e6b",
   "metadata": {},
   "outputs": [
    {
     "data": {
      "text/html": [
       "<div>\n",
       "<style scoped>\n",
       "    .dataframe tbody tr th:only-of-type {\n",
       "        vertical-align: middle;\n",
       "    }\n",
       "\n",
       "    .dataframe tbody tr th {\n",
       "        vertical-align: top;\n",
       "    }\n",
       "\n",
       "    .dataframe thead th {\n",
       "        text-align: right;\n",
       "    }\n",
       "</style>\n",
       "<table border=\"1\" class=\"dataframe\">\n",
       "  <thead>\n",
       "    <tr style=\"text-align: right;\">\n",
       "      <th></th>\n",
       "      <th>Meeting Code</th>\n",
       "      <th>Client Code</th>\n",
       "      <th>Client Name</th>\n",
       "      <th>Client City</th>\n",
       "      <th>Client Country</th>\n",
       "      <th>Country Code</th>\n",
       "      <th>Phone No.</th>\n",
       "      <th>Meeting Type</th>\n",
       "      <th>Meeting Start Time</th>\n",
       "      <th>Meeting End Time</th>\n",
       "      <th>Date_x</th>\n",
       "      <th>Analyst</th>\n",
       "      <th>Sales Representative</th>\n",
       "      <th>Transaction Code</th>\n",
       "      <th>Client Company Name</th>\n",
       "      <th>Revenue (Rs.)</th>\n",
       "      <th>Date_y</th>\n",
       "    </tr>\n",
       "  </thead>\n",
       "  <tbody>\n",
       "    <tr>\n",
       "      <th>0</th>\n",
       "      <td>202351</td>\n",
       "      <td>Z5A6B</td>\n",
       "      <td>Sakurai</td>\n",
       "      <td>Singapore</td>\n",
       "      <td>Singapore</td>\n",
       "      <td>966</td>\n",
       "      <td>7784071747</td>\n",
       "      <td>In - person Meeting</td>\n",
       "      <td>2025-05-21 19:01:00</td>\n",
       "      <td>2025-05-21 20:16:00</td>\n",
       "      <td>2022-06-01</td>\n",
       "      <td>Yujiro Hanma</td>\n",
       "      <td>Aquaman</td>\n",
       "      <td>64755.0</td>\n",
       "      <td>My Hero Academia</td>\n",
       "      <td>NaN</td>\n",
       "      <td>2022-06-01</td>\n",
       "    </tr>\n",
       "    <tr>\n",
       "      <th>1</th>\n",
       "      <td>202351</td>\n",
       "      <td>Z5A6B</td>\n",
       "      <td>Sakurai</td>\n",
       "      <td>Singapore</td>\n",
       "      <td>Singapore</td>\n",
       "      <td>966</td>\n",
       "      <td>7784071747</td>\n",
       "      <td>In - person Meeting</td>\n",
       "      <td>2025-05-21 19:01:00</td>\n",
       "      <td>2025-05-21 20:16:00</td>\n",
       "      <td>2022-06-01</td>\n",
       "      <td>Yujiro Hanma</td>\n",
       "      <td>Aquaman</td>\n",
       "      <td>64791.0</td>\n",
       "      <td>Naruto</td>\n",
       "      <td>NaN</td>\n",
       "      <td>2022-06-03</td>\n",
       "    </tr>\n",
       "    <tr>\n",
       "      <th>2</th>\n",
       "      <td>202351</td>\n",
       "      <td>Z5A6B</td>\n",
       "      <td>Sakurai</td>\n",
       "      <td>Singapore</td>\n",
       "      <td>Singapore</td>\n",
       "      <td>966</td>\n",
       "      <td>7784071747</td>\n",
       "      <td>In - person Meeting</td>\n",
       "      <td>2025-05-21 19:01:00</td>\n",
       "      <td>2025-05-21 20:16:00</td>\n",
       "      <td>2022-06-01</td>\n",
       "      <td>Yujiro Hanma</td>\n",
       "      <td>Aquaman</td>\n",
       "      <td>64813.0</td>\n",
       "      <td>Demon Slayer</td>\n",
       "      <td>NaN</td>\n",
       "      <td>2022-06-06</td>\n",
       "    </tr>\n",
       "    <tr>\n",
       "      <th>3</th>\n",
       "      <td>202351</td>\n",
       "      <td>Z5A6B</td>\n",
       "      <td>Sakurai</td>\n",
       "      <td>Singapore</td>\n",
       "      <td>Singapore</td>\n",
       "      <td>966</td>\n",
       "      <td>7784071747</td>\n",
       "      <td>In - person Meeting</td>\n",
       "      <td>2025-05-21 19:01:00</td>\n",
       "      <td>2025-05-21 20:16:00</td>\n",
       "      <td>2022-06-01</td>\n",
       "      <td>Yujiro Hanma</td>\n",
       "      <td>Aquaman</td>\n",
       "      <td>64829.0</td>\n",
       "      <td>Attack on Titan</td>\n",
       "      <td>NaN</td>\n",
       "      <td>2022-06-07</td>\n",
       "    </tr>\n",
       "    <tr>\n",
       "      <th>4</th>\n",
       "      <td>202351</td>\n",
       "      <td>Z5A6B</td>\n",
       "      <td>Sakurai</td>\n",
       "      <td>Singapore</td>\n",
       "      <td>Singapore</td>\n",
       "      <td>966</td>\n",
       "      <td>7784071747</td>\n",
       "      <td>In - person Meeting</td>\n",
       "      <td>2025-05-21 19:01:00</td>\n",
       "      <td>2025-05-21 20:16:00</td>\n",
       "      <td>2022-06-01</td>\n",
       "      <td>Yujiro Hanma</td>\n",
       "      <td>Aquaman</td>\n",
       "      <td>64844.0</td>\n",
       "      <td>Steins;Gate</td>\n",
       "      <td>NaN</td>\n",
       "      <td>2022-06-08</td>\n",
       "    </tr>\n",
       "  </tbody>\n",
       "</table>\n",
       "</div>"
      ],
      "text/plain": [
       "   Meeting Code Client Code Client Name Client City Client Country  \\\n",
       "0        202351       Z5A6B     Sakurai   Singapore      Singapore   \n",
       "1        202351       Z5A6B     Sakurai   Singapore      Singapore   \n",
       "2        202351       Z5A6B     Sakurai   Singapore      Singapore   \n",
       "3        202351       Z5A6B     Sakurai   Singapore      Singapore   \n",
       "4        202351       Z5A6B     Sakurai   Singapore      Singapore   \n",
       "\n",
       "   Country Code   Phone No.         Meeting Type  Meeting Start Time  \\\n",
       "0           966  7784071747  In - person Meeting 2025-05-21 19:01:00   \n",
       "1           966  7784071747  In - person Meeting 2025-05-21 19:01:00   \n",
       "2           966  7784071747  In - person Meeting 2025-05-21 19:01:00   \n",
       "3           966  7784071747  In - person Meeting 2025-05-21 19:01:00   \n",
       "4           966  7784071747  In - person Meeting 2025-05-21 19:01:00   \n",
       "\n",
       "     Meeting End Time     Date_x       Analyst Sales Representative  \\\n",
       "0 2025-05-21 20:16:00 2022-06-01  Yujiro Hanma              Aquaman   \n",
       "1 2025-05-21 20:16:00 2022-06-01  Yujiro Hanma              Aquaman   \n",
       "2 2025-05-21 20:16:00 2022-06-01  Yujiro Hanma              Aquaman   \n",
       "3 2025-05-21 20:16:00 2022-06-01  Yujiro Hanma              Aquaman   \n",
       "4 2025-05-21 20:16:00 2022-06-01  Yujiro Hanma              Aquaman   \n",
       "\n",
       "   Transaction Code Client Company Name  Revenue (Rs.)     Date_y  \n",
       "0           64755.0    My Hero Academia            NaN 2022-06-01  \n",
       "1           64791.0              Naruto            NaN 2022-06-03  \n",
       "2           64813.0        Demon Slayer            NaN 2022-06-06  \n",
       "3           64829.0     Attack on Titan            NaN 2022-06-07  \n",
       "4           64844.0         Steins;Gate            NaN 2022-06-08  "
      ]
     },
     "execution_count": 12,
     "metadata": {},
     "output_type": "execute_result"
    }
   ],
   "source": [
    "combined_df.head()"
   ]
  },
  {
   "cell_type": "code",
   "execution_count": 13,
   "id": "2212402a",
   "metadata": {},
   "outputs": [],
   "source": [
    "combined_df['Revenue (Rs.)'] = pd.to_numeric(combined_df['Revenue (Rs.)'], errors='coerce')"
   ]
  },
  {
   "cell_type": "code",
   "execution_count": 14,
   "id": "497d4930",
   "metadata": {},
   "outputs": [],
   "source": [
    "revenue_by_city = (\n",
    "    combined_df.groupby('Client City')['Revenue (Rs.)']\n",
    "    .sum()\n",
    "    .reset_index()\n",
    "    .sort_values(by='Revenue (Rs.)', ascending=False)\n",
    ")"
   ]
  },
  {
   "cell_type": "code",
   "execution_count": 15,
   "id": "3f0764d3",
   "metadata": {},
   "outputs": [
    {
     "name": "stdout",
     "output_type": "stream",
     "text": [
      "City with highest revenue between June 2022 and March 2025:\n",
      "  Client City  Revenue (Rs.)\n",
      "3      Mumbai   3.510989e+08\n"
     ]
    }
   ],
   "source": [
    "top_city = revenue_by_city.head(1)\n",
    "print(\"City with highest revenue between June 2022 and March 2025:\")\n",
    "print(top_city)"
   ]
  }
 ],
 "metadata": {
  "kernelspec": {
   "display_name": "Python 3",
   "language": "python",
   "name": "python3"
  },
  "language_info": {
   "codemirror_mode": {
    "name": "ipython",
    "version": 3
   },
   "file_extension": ".py",
   "mimetype": "text/x-python",
   "name": "python",
   "nbconvert_exporter": "python",
   "pygments_lexer": "ipython3",
   "version": "3.10.2"
  }
 },
 "nbformat": 4,
 "nbformat_minor": 5
}
